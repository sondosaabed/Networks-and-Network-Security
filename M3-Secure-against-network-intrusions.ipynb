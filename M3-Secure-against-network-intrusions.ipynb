{
 "cells": [
  {
   "cell_type": "markdown",
   "metadata": {},
   "source": [
    "## Common network intrusion attacks\n",
    "- Malware\n",
    "- Spoofing\n",
    "- Packet sniffing\n",
    "- Packet flooding\n",
    "\n",
    "## How intrusions compromise your system\n",
    "\n",
    "In this section of the course, you learned that every network has inherent vulnerabilities and could become the target of a network attack.\n",
    "\n",
    "Attackers could have varying motivations for attacking your organization’s network. They may have financial, personal, or political motivations, or they may be a disgruntled employee or an activist who disagrees with the company's values and wants to harm an organization’s operations. Malicious actors can target any network. Security analysts must be constantly alert to potential vulnerabilities in their organization’s network and take quick action to mitigate them.\n",
    "\n",
    "In this reading, you’ll learn about network interception attacks and backdoor attacks, and the possible impacts these attacks could have on an organization.\n",
    "\n",
    "## Network interception attacks \n",
    "Network interception attacks work by intercepting network traffic and stealing valuable information or interfering with the transmission in some way.\n",
    "\n",
    "Malicious actors can use hardware or software tools to capture and inspect data in transit. This is referred to as packet sniffing. In addition to seeing information that they are not entitled to, malicious actors can also intercept network traffic and alter it. These attacks can cause damage to an organization’s network by inserting malicious code modifications or altering the message and interrupting network operations. For example, an attacker can intercept a bank transfer and change the account receiving the funds to one that the attacker controls.\n",
    "\n",
    "Later in this course you will learn more about malicious packet sniffing, and other types of network interception attacks: on-path attacks and replay attacks.\n",
    "\n",
    "## Backdoor attacks\n",
    "A backdoor attack is another type of attack you will need to be aware of as a security analyst. An organization may have a lot of security measures in place, including cameras, biometric scans and access codes to keep employees from entering and exiting without being seen. However, an employee might work around the security measures by finding a backdoor to the building that is not as heavily monitored, allowing them to sneak out for the afternoon without being seen. \n",
    "\n",
    "In cybersecurity, backdoors are weaknesses intentionally left by programmers or system and network administrators that bypass normal access control mechanisms. Backdoors are intended to help programmers conduct troubleshooting or administrative tasks. However, backdoors can also be installed by attackers after they’ve compromised an organization to ensure they have persistent access.\n",
    "\n",
    "Once the hacker has entered an insecure network through a backdoor, they can cause extensive damage: installing malware, performing a denial of service (DoS) attack, stealing private information or changing other security settings that leaves the system vulnerable to other attacks. A DoS attack is an attack that targets a network or server and floods it with network traffic.\n",
    "Possible impacts on an organization\n",
    "\n",
    "As you’ve learned already, network attacks can have a significant negative impact on an organization. Let’s examine some potential consequences.\n",
    "\n",
    "- **Financial**: When a system is taken offline with a DoS attack or some other tactic, they prevent a company from performing  tasks that generate revenue. Depending on the size of an organization, interrupted operations can cost millions of dollars. Reparation costs to rebuild software infrastructure and to pay large sums associated with potential ransomware can be financially difficult. In addition, if a malicious actor gets access to the personal information of the company’s clients or customers, the company may face heavy litigation and settlement costs if customers seek legal recourse.\n",
    "\n",
    "- **Reputation**: Attacks can also have a negative impact on the reputation of an organization. If it becomes public knowledge that a company has experienced a cyber attack, the public may become concerned about the security practices of the organization. They may stop trusting the company with their personal information and choose a competitor to fulfill their needs.\n",
    "\n",
    "- **Public safety:** If an attack occurs on a government network, this can potentially impact the safety and welfare of the citizens of a country. In recent years, defense agencies across the globe are investing heavily in combating cyber warfare tactics. If a malicious actor gained access to a power grid, a public water system, or even a military defense communication system, the public could face physical harm due to a network intrusion attack.\n",
    "\n",
    "## Key takeaways\n",
    "Malicious actors are constantly looking for ways to exploit systems. They learn about new vulnerabilities as they arise and attempt to exploit every vulnerability in a system. Attackers leverage backdoor attack methods and network interception attacks to gain access to sensitive information they can use to exploit an organization or cause serious damage. These types of attacks can impact an organization financially, damage its reputation, and potentially put the public in danger.  It is important that security analysts stay educated in order to maintain network safety and reduce the likelihood and impact of these types of attacks. Securing networks has never been more important."
   ]
  },
  {
   "cell_type": "markdown",
   "metadata": {},
   "source": [
    "## the 3Cs\n",
    "The things that are most important to having a good outcome in an incident are what we call the 3Cs: Command, Control and Communications. Meaning someone needs to be in charge of it affirmatively leading. Someone needs to be exerting control over everyone involved so that everyone's aligned, focused on the mission, and the biggest and most important one of them all: proper communications. If you have something to offer to the incident, don't just go do it, Communicate to someone. I think I could do this to help us make progress. I think if we look over here, we'll find more data. "
   ]
  },
  {
   "cell_type": "markdown",
   "metadata": {},
   "source": [
    "## Denial of service (DoS) attacks\n",
    "An attack that targets a network or server and floods it with network traffic.\n",
    "The objective of a denial of service attack, or a DoS attack, is to disrupt normal business operations by overloading an organization's network. The goal of the attack is to send so much information to a network device that it crashes or is unable to respond to legitimate users. This means that the organization won't be able to conduct their normal business operations, which can cost them money and time. A network crash can also leave them vulnerable to other security threats and attacks. \n",
    "\n",
    "### DDoS\n",
    "A distributed denial of service attack, or DDoS, is a kind of DoS attack that uses multiple devices or servers in different locations to flood the target network with unwanted traffic. Use of numerous devices makes it more likely that the total amount of traffic sent will overwhelm the target server. \n",
    "\n",
    "## Network level DoS attacks\n",
    "- **SYN (Synchronize) flood attack**: a type of DoS attack that simulates a TCP connection and floods a server with SYN packets.  Let's break this definition down a bit more by taking a closer look at the handshake process that is used to establish a TCP connection between a device and a server.\n",
    "The first step in the handshake is for the device to send a SYN, or synchronize, request to the server. Then, the server responds with a SYN/ACK packet to acknowledge the receipt of the device's request and leaves a port open for the final step of the handshake.\n",
    "Once the server receives the final ACK packet from the device, a TCP connection is established. Malicious actors can take advantage of the protocol by flooding a server with SYN packet requests for the first part of the handshake.\n",
    "But if the number of SYN requests is larger than the number of available ports on the server, then the server will be overwhelmed and become unable to function. \n",
    "- **Internet Control Message Protocol (ICMP)**: Is an internet protocol used by devices to tell each other about data transmission errors across the network. Think of ICMP like a request for a status update from a device.\n",
    "The device will return error messages if there is a network concern.\n",
    "You can think of this like the ICMP request checking in with the device to make sure that all is well. An ICMP flood attack is a type of DoS attack performed by an attacker repeatedly sending ICMP packets to a network server. This forces the server to send an ICMP packet. This eventually uses up all the bandwidth for incoming and outgoing traffic and causes the server to crash.\n",
    "- **Ping of death**: A type of DoS attack caused when a hacker pings a system by sendig it an oversized ICMP packet that is bigger than 64KB. "
   ]
  }
 ],
 "metadata": {
  "language_info": {
   "name": "python"
  }
 },
 "nbformat": 4,
 "nbformat_minor": 2
}
