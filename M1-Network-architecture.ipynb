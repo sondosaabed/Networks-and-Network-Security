{
 "cells": [
  {
   "cell_type": "markdown",
   "metadata": {},
   "source": [
    "## Network\n",
    "A network is a group of connected devices. The devices can communicate with each other over network cables or wireless connections. So they need to find ech other to establish a connection, so they use unique identifiers to locate. they are the IP and MAC addresses.\n",
    "\n",
    "### Types of networks\n",
    "- **LAN:** Local: a Network that spans a small area like an office building, a school, or a home.\n",
    "- **WAN:** Wide: A network that spans a a large geographic area like a city, state, or country. (internet is a one big wan)\n",
    "\n",
    "### Network Common devices\n",
    "Physical devices.\n",
    "- **Hub**: A network device that broadcasts information to every device on the network. (Like a radio telent)\n",
    "- **Switch:** A device that makes connections between specific devices on a network by sending and receiving data between them. (more intilgent than hub, only to the intended, more secure than a hub, controlled flow).\n",
    "- **Router:** A network device that connects multiple network together.\n",
    "- **Modem:** A device that connects your router to the internet and brings internet access to the LAN.\n",
    "\n",
    "However, some of teh functions completed by these devices can be virtualized using virtualization tools\n",
    "- **virtualization** tools: pices of software that perform network operations. They are offered by cloud services provider."
   ]
  }
 ],
 "metadata": {
  "language_info": {
   "name": "python"
  }
 },
 "nbformat": 4,
 "nbformat_minor": 2
}
