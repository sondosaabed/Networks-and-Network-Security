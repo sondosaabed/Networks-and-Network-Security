{
 "cells": [
  {
   "cell_type": "markdown",
   "metadata": {},
   "source": [
    "## Security hardening\n",
    "\n",
    "### Definition\n",
    "Security hardening is the process of strengthening a system to reduce its\n",
    "vulnerability and attack surface. All the potential vulnerabilities that a threat actor could exploit are referred to as a system's attack surface. \n",
    "\n",
    "Security hardening can be conducted on any device or\n",
    "system that can be compromised such as \n",
    "- hardware\n",
    "- operating systems\n",
    "- applications\n",
    "- computer networks\n",
    "- databases. \n",
    "\n",
    "### Strategies\n",
    "- May include securing a physical place with security cameras and security cameras gaurds.\n",
    "- Software updates also called patches to increase security\n",
    "- Device applications configurations changes to fix vurnability in teh network \n",
    "    - Such as longer passwords or more frequently passwords changing.\n",
    "- Removing or disabling unused applications and services, disabling unused ports, and reducing access permissions across devices and network. Minimizing the number of applications, devices, ports, and access permissions makes network and device monitoring more efficient and reduces the overall attack surface, which is one of the best ways to secure an organization. \n",
    "- Conduct regullar penetration tests. is a simulated attack that helps identify\n",
    "vulnerabilities in a system, network, website, application, and process.\n",
    "Penetration testers document their findings in a report. Depending on where the test fails, security teams can determine the type of security vulnerabilities that require fixing. Organizations can then review these vulnerabilities and come up with a plan to fix them. "
   ]
  }
 ],
 "metadata": {
  "language_info": {
   "name": "python"
  }
 },
 "nbformat": 4,
 "nbformat_minor": 2
}
